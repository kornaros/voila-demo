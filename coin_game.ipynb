{
 "cells": [
  {
   "cell_type": "code",
   "execution_count": 1,
   "metadata": {},
   "outputs": [
    {
     "data": {
      "application/vnd.jupyter.widget-view+json": {
       "model_id": "1c10d546ff0a49c9917baa331d57009f",
       "version_major": 2,
       "version_minor": 0
      },
      "text/plain": [
       "VBox(children=(HTML(value='<h5>Ο κανόνας a αναποδογυρίζει όλα τα νομίσματα ενός κύκλου.<br> Ο κανόνας b αναποδ…"
      ]
     },
     "metadata": {},
     "output_type": "display_data"
    }
   ],
   "source": [
    "import random\n",
    "from IPython.display import display, HTML\n",
    "import ipywidgets as widgets\n",
    "\n",
    "# Ορισμός νομισμάτων και κύκλων\n",
    "coin_names = ['ν1','ν2','ν3','ν4','ν5','ν6','ν7']\n",
    "coins = {name: 'Κ' for name in coin_names}\n",
    "\n",
    "circles = [\n",
    "    ['ν1','ν2','ν3','ν4'],\n",
    "    ['ν2','ν5','ν6','ν4'],\n",
    "    ['ν3','ν6','ν7','ν4']\n",
    "]\n",
    "\n",
    "# Κανόνες\n",
    "def apply_rule_a(coins, circle):\n",
    "    for k in circle:\n",
    "        coins[k] = 'Γ' if coins[k] == 'Κ' else 'Κ'\n",
    "    return coins\n",
    "\n",
    "def apply_rule_b(coins, circle):\n",
    "    for k in circle:\n",
    "        if coins[k] == 'Κ':\n",
    "            coins[k] = 'Γ'\n",
    "    return coins\n",
    "\n",
    "rule_funcs = [apply_rule_a, apply_rule_b]\n",
    "rule_labels = ['a', 'b']\n",
    "\n",
    "# Widget για την εμφάνιση ενός βήματος\n",
    "def get_state_widget(coins, active_circle, rule_label, step_number):\n",
    "    html = f\"<strong>Βήμα {step_number} — Εφαρμόστηκε κανόνας <span style='color:blue'>{rule_label}</span> στον κύκλο {circles.index(active_circle)+1}:</strong><br>\"\n",
    "    for k in sorted(coins.keys()):\n",
    "        color = \"red\" if k in active_circle else \"black\"\n",
    "        html += f\"<span style='color:{color}'>{k}:{coins[k]}</span> \"\n",
    "    return widgets.HTML(html)\n",
    "\n",
    "# Αρχικές καταστάσεις\n",
    "initial_state = coins.copy()\n",
    "states = [initial_state]\n",
    "actions = []\n",
    "\n",
    "# Widgets\n",
    "latest_output = widgets.VBox()\n",
    "history_output = widgets.VBox()\n",
    "history_output.layout = widgets.Layout(height='300px', overflow_y='auto', border='1px solid gray', padding='5px')\n",
    "\n",
    "# Λογική κουμπιού\n",
    "step_number = 0\n",
    "\n",
    "def on_next_click(b):\n",
    "    global coins, step_number\n",
    "    step_number += 1\n",
    "\n",
    "    circle_idx = random.randint(0, 2)\n",
    "    rule_idx = random.randint(0, 1)\n",
    "    rule_func = rule_funcs[rule_idx]\n",
    "    rule_label = rule_labels[rule_idx]\n",
    "    active_circle = circles[circle_idx]\n",
    "\n",
    "    # Εφαρμογή κανόνα\n",
    "    coins = rule_func(coins.copy(), active_circle)\n",
    "    states.append(coins.copy())\n",
    "    actions.append((rule_label, active_circle))\n",
    "\n",
    "    # Νέο widget για το τρέχον βήμα\n",
    "    new_widget = get_state_widget(coins, active_circle, rule_label, step_number)\n",
    "\n",
    "    # Ενημέρωση τρέχοντος βήματος (χωρίς flicker)\n",
    "    latest_output.children = (new_widget,)\n",
    "\n",
    "    # Ενημέρωση ιστορικού (αντιστρόφως)\n",
    "    if step_number >1:\n",
    "        prev_widget = get_state_widget(states[step_number - 1], actions[step_number - 1][1], actions[step_number - 1][0], step_number - 1)\n",
    "        history_output.children = (prev_widget,) + history_output.children\n",
    "\n",
    "# Κουμπί\n",
    "next_button = widgets.Button(description=\"Επόμενο βήμα\", button_style='info')\n",
    "next_button.on_click(on_next_click)\n",
    "\n",
    "# Εμφάνιση όλων\n",
    "# Ενοποίηση όλων σε VBox για ορθή εμφάνιση στο Voilà\n",
    "ui = widgets.VBox([\n",
    "    widgets.HTML(\"<h5>Ο κανόνας a αναποδογυρίζει όλα τα νομίσματα ενός κύκλου.<br> Ο κανόνας b αναποδογυρίζει μόνο τα νομίσματα με όψη Κ <br> Ο τρέχον κύκλος που εφαρμόζεται ο κανόνας εμφανίζεται με κόκκινα γράμματα.</h5>\"),\n",
    "    widgets.HTML(\"<h3>Κατάσταση Νεώτερου Βήματος:</h3>\"),\n",
    "    latest_output,\n",
    "    next_button,\n",
    "    widgets.HTML(\"<h4>Ιστορικό προηγούμενων βημάτων:</h4>\"),\n",
    "    history_output\n",
    "])\n",
    "\n",
    "display(ui)"
   ]
  },
  {
   "cell_type": "code",
   "execution_count": null,
   "metadata": {},
   "outputs": [],
   "source": []
  }
 ],
 "metadata": {
  "kernelspec": {
   "display_name": "SageMath 9.3",
   "language": "sage",
   "name": "sagemath"
  },
  "language_info": {
   "codemirror_mode": {
    "name": "ipython",
    "version": 3
   },
   "file_extension": ".py",
   "mimetype": "text/x-python",
   "name": "python",
   "nbconvert_exporter": "python",
   "pygments_lexer": "ipython3",
   "version": "3.7.10"
  }
 },
 "nbformat": 4,
 "nbformat_minor": 4
}
