import ipywidgets as widgets
from IPython.display import display

slider = widgets.IntSlider(description='Αριθμός:')
output = widgets.Output()

def handle_change(change):
    with output:
        output.clear_output()
        print(f"Τετράγωνο: {change.new ** 2}")

slider.observe(handle_change, names='value')
display(slider, output)
